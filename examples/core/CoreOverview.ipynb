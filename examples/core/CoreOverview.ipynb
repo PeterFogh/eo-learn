{
 "cells": [
  {
   "cell_type": "markdown",
   "metadata": {},
   "source": [
    "# Overview of `eolearn.core`\n",
    "\n",
    "`eolearn.core` is the main subpackage which implements basic building blocks (`EOPatch`, `EOTask` and `EOWorkflow`) and commonly used functionalities."
   ]
  },
  {
   "cell_type": "markdown",
   "metadata": {},
   "source": [
    "## EOPatch\n",
    "\n",
    "EOPatch is common data-object that contains contains multi-temporal remotely sensed data of a single patch (area) of Earth’s surface typically defined by a bounding box in a specific coordinate reference system.\n",
    "\n",
    "There is no limitation on the amount of data, or the type of data that can be stored in an EOPatch. But typically, an EOPatch contains geographical referenced raster and vector data stored in Xarray Dataset and Geopandas GeoDataFrame, respectively, as the following types of *features*:\n",
    "\n",
    "* RASTER: A collection of array objects stored in `xarray.DataArray`s collected in a `xarray.Dataset`.\n",
    "* VECTOR: A collection of time-dependent geometry objects stored as a `geopandas.GeoDataFrame` with geometry and `TIMESTAMP` columns.\n",
    "* VECTOR_TIMELESS: A collection of time-independent geometry objects stored as a `geopandas.GeoDataFrame` with geometry column.\n",
    "* BBOX: A bounding box of the patch which is an instance of `sentinelhub.BBox`. It holds information about coordinates and CRS."
   ]
  },
  {
   "cell_type": "markdown",
   "metadata": {},
   "source": [
    "### What is an `xarray.DataArray`?\n",
    "> `xarray.DataArray` is xarray’s implementation of a labeled, multi-dimensional array. It has several key properties:\n",
    "> * `values`: a `numpy.ndarray` holding the array’s values\n",
    "> * `dims`: dimension names for each axis (e.g., `('x', 'y', 'z')`)\n",
    "> * `coords`: a `dict`-like container of arrays (coordinates) that label each point (e.g., 1-dimensional arrays of numbers, datetime objects or strings)\n",
    "> * `attrs`: an `OrderedDict` to hold arbitrary metadata (attributes)\n",
    "\n",
    "Source: [Xarray documentation](http://xarray.pydata.org/en/stable/data-structures.html#dataarray)\n",
    "\n",
    "Thus, an `xarray.DataArray` can contain all of the following types of arrays:\n",
    "\n",
    "* DATA with shape `t * x * y * d`: Time- and position-dependent remote sensing data (e.g. bands) of float type.\n",
    "* DATA_TIMELESS with shape `x * y * d`: Time-independent and position-dependent remote sensing data (e.g. elevation model) of float type.\n",
    "* MASK with shape `t * x * y * d`: Time- and position-dependent mask (e.g. ground truth, cloud/shadow mask, super pixel identifier) of integer or boolean type.\n",
    "* MASK_TIMELESS with shape `x * y * d`: Time-independent and position-dependent mask (e.g. ground truth, region of interest mask) of integer or boolean type.\n",
    "* SCALAR with shape `t * d`: Time-dependent and position-independent remote sensing data (e.g. weather data,) of float type.\n",
    "* SCALAR_TIMELESS with shape `d`:  Time-independent and position-independent remote sensing data of float type.\n",
    "* LABEL with shape `t * d`: Time-dependent and position-independent label (e.g. ground truth) of integer or boolean type.\n",
    "* LABEL_TIMELESS with shape `d`: Time-independent and position-independent label of integer or boolean type.\n",
    "\n",
    "Note: `t` specifies time dimension, `x` and `y` are spatial dimensions (i.e. number of columns and rows), and `d` is an additional dimensions for data with multiple channels."
   ]
  },
  {
   "cell_type": "markdown",
   "metadata": {},
   "source": [
    "### What is an `xarray.Dataset`?\n",
    "\n",
    "> `xarray.Dataset` is xarray’s multi-dimensional equivalent of a `DataFrame`. It is a dict-like container of labeled arrays (`DataArray` objects) with aligned dimensions. It is designed as an in-memory representation of the data model from the [netCDF](https://www.unidata.ucar.edu/software/netcdf/) file format.\n",
    "> In addition to the dict-like interface of the dataset itself, which can be used to access any variable in a dataset, datasets have four key properties:\n",
    "> * `dims`: a dictionary mapping from dimension names to the fixed length of each dimension (e.g., `{'x': 6, 'y': 6, 'time': 8}`)\n",
    "> * `data_vars`: a dict-like container of DataArrays corresponding to variables\n",
    "> * `coords`: another dict-like container of DataArrays intended to label points used in `data_vars` (e.g., arrays of numbers, datetime objects or strings)\n",
    "> * `attrs`: an `OrderedDict` to hold arbitrary metadata\n",
    "\n",
    "Source: [Xarray documentation](http://xarray.pydata.org/en/stable/data-structures.html#dataset)\n",
    "\n",
    "Thus, an `xarray.Dataset` can contain all of the above listed types of arrays, as well as enabling easy operations across the DataArrays based on their shared dimensions."
   ]
  },
  {
   "cell_type": "markdown",
   "metadata": {},
   "source": [
    "### Create an empty patch"
   ]
  },
  {
   "cell_type": "code",
   "execution_count": 1,
   "metadata": {},
   "outputs": [
    {
     "data": {
      "text/plain": [
       "EOPatch(\n",
       "  raster: <xarray.Dataset>\n",
       "Dimensions:  ()\n",
       "Data variables:\n",
       "    *empty*\n",
       "  data: {}\n",
       "  mask: {}\n",
       "  scalar: {}\n",
       "  label: {}\n",
       "  vector: {}\n",
       "  data_timeless: {}\n",
       "  mask_timeless: {}\n",
       "  scalar_timeless: {}\n",
       "  label_timeless: {}\n",
       "  vector_timeless: {}\n",
       "  meta_info: {}\n",
       "  bbox: None\n",
       "  timestamp: []\n",
       ")"
      ]
     },
     "execution_count": 1,
     "metadata": {},
     "output_type": "execute_result"
    }
   ],
   "source": [
    "from eolearn.core import EOPatch\n",
    "\n",
    "patch = EOPatch()\n",
    "patch"
   ]
  },
  {
   "cell_type": "markdown",
   "metadata": {},
   "source": [
    "### Add a `DataArray` to the EOPatch\n",
    "Each `DataArray` has to belong to RASTER feature type listed above."
   ]
  },
  {
   "cell_type": "code",
   "execution_count": 2,
   "metadata": {},
   "outputs": [
    {
     "data": {
      "text/plain": [
       "EOPatch(\n",
       "  raster: <xarray.Dataset>\n",
       "Dimensions:  (dim_0: 5, dim_1: 10, dim_2: 10, dim_3: 13)\n",
       "Dimensions without coordinates: dim_0, dim_1, dim_2, dim_3\n",
       "Data variables:\n",
       "    bands    (dim_0, dim_1, dim_2, dim_3) float64 0.4094 0.6454 ... 0.2973\n",
       "  data: {\n",
       "    bands: numpy.ndarray(shape=(5, 10, 10, 13), dtype=float32)\n",
       "  }\n",
       "  mask: {}\n",
       "  scalar: {}\n",
       "  label: {}\n",
       "  vector: {}\n",
       "  data_timeless: {}\n",
       "  mask_timeless: {}\n",
       "  scalar_timeless: {}\n",
       "  label_timeless: {}\n",
       "  vector_timeless: {}\n",
       "  meta_info: {}\n",
       "  bbox: None\n",
       "  timestamp: []\n",
       ")"
      ]
     },
     "execution_count": 2,
     "metadata": {},
     "output_type": "execute_result"
    }
   ],
   "source": [
    "import numpy as np\n",
    "import xarray as xr\n",
    "from eolearn.core import FeatureType\n",
    "\n",
    "new_ndarray_bands = np.zeros((5, 10, 10, 13), dtype=np.float32)\n",
    "\n",
    "patch[FeatureType.DATA]['bands'] = new_ndarray_bands\n",
    "# or alternatively by\n",
    "patch.data['bands'] = new_ndarray_bands\n",
    "\n",
    "new_bands = xr.DataArray(\n",
    "    np.random.random(size=(5, 10, 10, 13)))\n",
    "\n",
    "patch[FeatureType.RASTER]['bands'] = new_bands\n",
    "# or alternatively by\n",
    "patch.raster['bands'] = new_bands\n",
    "\n",
    "patch  # Check current content of EOPatch with it's string representation"
   ]
  },
  {
   "cell_type": "markdown",
   "metadata": {},
   "source": [
    "### Get all non-empty features of EOPatch"
   ]
  },
  {
   "cell_type": "code",
   "execution_count": 3,
   "metadata": {},
   "outputs": [
    {
     "data": {
      "text/plain": [
       "{<FeatureType.RASTER: 'raster'>: True, <FeatureType.DATA: 'data'>: {'bands'}}"
      ]
     },
     "execution_count": 3,
     "metadata": {},
     "output_type": "execute_result"
    }
   ],
   "source": [
    "patch.get_features()"
   ]
  },
  {
   "cell_type": "markdown",
   "metadata": {},
   "source": [
    "### Get a feature from EOPatch"
   ]
  },
  {
   "cell_type": "code",
   "execution_count": 4,
   "metadata": {},
   "outputs": [
    {
     "data": {
      "text/plain": [
       "<xarray.Dataset>\n",
       "Dimensions:  (dim_0: 5, dim_1: 10, dim_2: 10, dim_3: 13)\n",
       "Dimensions without coordinates: dim_0, dim_1, dim_2, dim_3\n",
       "Data variables:\n",
       "    bands    (dim_0, dim_1, dim_2, dim_3) float64 0.4094 0.6454 ... 0.2973"
      ]
     },
     "execution_count": 4,
     "metadata": {},
     "output_type": "execute_result"
    }
   ],
   "source": [
    "data = patch[FeatureType.RASTER]\n",
    "# or alternatively by\n",
    "patch.raster\n",
    "\n",
    "data"
   ]
  },
  {
   "cell_type": "markdown",
   "metadata": {},
   "source": [
    "### Save EOPatch to local folder\n",
    "\n",
    "In case EOPatch would already exist in the specified location we are also giving a permission to overwrite its features."
   ]
  },
  {
   "cell_type": "code",
   "execution_count": 5,
   "metadata": {},
   "outputs": [
    {
     "data": {
      "text/plain": [
       "<xarray.Dataset>\n",
       "Dimensions:  (dim_0: 5, dim_1: 10, dim_2: 10, dim_3: 13)\n",
       "Dimensions without coordinates: dim_0, dim_1, dim_2, dim_3\n",
       "Data variables:\n",
       "    bands    (dim_0, dim_1, dim_2, dim_3) float64 0.4094 0.6454 ... 0.2973"
      ]
     },
     "execution_count": 5,
     "metadata": {},
     "output_type": "execute_result"
    }
   ],
   "source": [
    "data = patch.raster\n",
    "data"
   ]
  },
  {
   "cell_type": "code",
   "execution_count": 6,
   "metadata": {},
   "outputs": [
    {
     "name": "stdout",
     "output_type": "stream",
     "text": [
      "./example_patch_tmp_1562345062.265108/raster/RASTER.nc <class 'str'>\n"
     ]
    },
    {
     "ename": "PermissionError",
     "evalue": "[Errno 13] Permission denied: './example_patch_tmp_1562345062.265108' -> './example_patch'",
     "output_type": "error",
     "traceback": [
      "\u001b[0;31m---------------------------------------------------------------------------\u001b[0m",
      "\u001b[0;31mPermissionError\u001b[0m                           Traceback (most recent call last)",
      "\u001b[0;32m<ipython-input-6-98564561d288>\u001b[0m in \u001b[0;36m<module>\u001b[0;34m\u001b[0m\n\u001b[1;32m      1\u001b[0m \u001b[0;32mfrom\u001b[0m \u001b[0meolearn\u001b[0m\u001b[0;34m.\u001b[0m\u001b[0mcore\u001b[0m \u001b[0;32mimport\u001b[0m \u001b[0mOverwritePermission\u001b[0m\u001b[0;34m\u001b[0m\u001b[0;34m\u001b[0m\u001b[0m\n\u001b[1;32m      2\u001b[0m \u001b[0;34m\u001b[0m\u001b[0m\n\u001b[0;32m----> 3\u001b[0;31m \u001b[0mpatch\u001b[0m\u001b[0;34m.\u001b[0m\u001b[0msave\u001b[0m\u001b[0;34m(\u001b[0m\u001b[0;34m'./example_patch'\u001b[0m\u001b[0;34m,\u001b[0m \u001b[0moverwrite_permission\u001b[0m\u001b[0;34m=\u001b[0m\u001b[0mOverwritePermission\u001b[0m\u001b[0;34m.\u001b[0m\u001b[0mOVERWRITE_FEATURES\u001b[0m\u001b[0;34m)\u001b[0m\u001b[0;34m\u001b[0m\u001b[0;34m\u001b[0m\u001b[0m\n\u001b[0m",
      "\u001b[0;32m~/work/open_source/eo-learn/core/eolearn/core/eodata.py\u001b[0m in \u001b[0;36msave\u001b[0;34m(self, path, features, file_format, overwrite_permission, compress_level)\u001b[0m\n\u001b[1;32m    555\u001b[0m             \u001b[0;32mif\u001b[0m \u001b[0mos\u001b[0m\u001b[0;34m.\u001b[0m\u001b[0mpath\u001b[0m\u001b[0;34m.\u001b[0m\u001b[0mexists\u001b[0m\u001b[0;34m(\u001b[0m\u001b[0mtmp_path\u001b[0m\u001b[0;34m)\u001b[0m\u001b[0;34m:\u001b[0m\u001b[0;34m\u001b[0m\u001b[0;34m\u001b[0m\u001b[0m\n\u001b[1;32m    556\u001b[0m                 \u001b[0mshutil\u001b[0m\u001b[0;34m.\u001b[0m\u001b[0mrmtree\u001b[0m\u001b[0;34m(\u001b[0m\u001b[0mtmp_path\u001b[0m\u001b[0;34m)\u001b[0m\u001b[0;34m\u001b[0m\u001b[0;34m\u001b[0m\u001b[0m\n\u001b[0;32m--> 557\u001b[0;31m             \u001b[0;32mraise\u001b[0m \u001b[0mex\u001b[0m\u001b[0;34m\u001b[0m\u001b[0;34m\u001b[0m\u001b[0m\n\u001b[0m\u001b[1;32m    558\u001b[0m \u001b[0;34m\u001b[0m\u001b[0m\n\u001b[1;32m    559\u001b[0m     \u001b[0;32mdef\u001b[0m \u001b[0m_get_save_file_list\u001b[0m\u001b[0;34m(\u001b[0m\u001b[0mself\u001b[0m\u001b[0;34m,\u001b[0m \u001b[0mpath\u001b[0m\u001b[0;34m,\u001b[0m \u001b[0mtmp_path\u001b[0m\u001b[0;34m,\u001b[0m \u001b[0mfeatures\u001b[0m\u001b[0;34m,\u001b[0m \u001b[0mfile_format\u001b[0m\u001b[0;34m,\u001b[0m \u001b[0mcompress_level\u001b[0m\u001b[0;34m)\u001b[0m\u001b[0;34m:\u001b[0m\u001b[0;34m\u001b[0m\u001b[0;34m\u001b[0m\u001b[0m\n",
      "\u001b[0;32m~/work/open_source/eo-learn/core/eolearn/core/eodata.py\u001b[0m in \u001b[0;36msave\u001b[0;34m(self, path, features, file_format, overwrite_permission, compress_level)\u001b[0m\n\u001b[1;32m    550\u001b[0m                         \u001b[0mshutil\u001b[0m\u001b[0;34m.\u001b[0m\u001b[0mrmtree\u001b[0m\u001b[0;34m(\u001b[0m\u001b[0mtmp_path\u001b[0m\u001b[0;34m)\u001b[0m\u001b[0;34m\u001b[0m\u001b[0;34m\u001b[0m\u001b[0m\n\u001b[1;32m    551\u001b[0m             \u001b[0;32melse\u001b[0m\u001b[0;34m:\u001b[0m\u001b[0;34m\u001b[0m\u001b[0;34m\u001b[0m\u001b[0m\n\u001b[0;32m--> 552\u001b[0;31m                 \u001b[0mos\u001b[0m\u001b[0;34m.\u001b[0m\u001b[0mrenames\u001b[0m\u001b[0;34m(\u001b[0m\u001b[0mtmp_path\u001b[0m\u001b[0;34m,\u001b[0m \u001b[0mpath\u001b[0m\u001b[0;34m)\u001b[0m\u001b[0;34m\u001b[0m\u001b[0;34m\u001b[0m\u001b[0m\n\u001b[0m\u001b[1;32m    553\u001b[0m \u001b[0;34m\u001b[0m\u001b[0m\n\u001b[1;32m    554\u001b[0m         \u001b[0;32mexcept\u001b[0m \u001b[0mBaseException\u001b[0m \u001b[0;32mas\u001b[0m \u001b[0mex\u001b[0m\u001b[0;34m:\u001b[0m\u001b[0;34m\u001b[0m\u001b[0;34m\u001b[0m\u001b[0m\n",
      "\u001b[0;32m~/miniconda3/envs/py37_dev_eolearn/lib/python3.7/os.py\u001b[0m in \u001b[0;36mrenames\u001b[0;34m(old, new)\u001b[0m\n\u001b[1;32m    266\u001b[0m     \u001b[0;32mif\u001b[0m \u001b[0mhead\u001b[0m \u001b[0;32mand\u001b[0m \u001b[0mtail\u001b[0m \u001b[0;32mand\u001b[0m \u001b[0;32mnot\u001b[0m \u001b[0mpath\u001b[0m\u001b[0;34m.\u001b[0m\u001b[0mexists\u001b[0m\u001b[0;34m(\u001b[0m\u001b[0mhead\u001b[0m\u001b[0;34m)\u001b[0m\u001b[0;34m:\u001b[0m\u001b[0;34m\u001b[0m\u001b[0;34m\u001b[0m\u001b[0m\n\u001b[1;32m    267\u001b[0m         \u001b[0mmakedirs\u001b[0m\u001b[0;34m(\u001b[0m\u001b[0mhead\u001b[0m\u001b[0;34m)\u001b[0m\u001b[0;34m\u001b[0m\u001b[0;34m\u001b[0m\u001b[0m\n\u001b[0;32m--> 268\u001b[0;31m     \u001b[0mrename\u001b[0m\u001b[0;34m(\u001b[0m\u001b[0mold\u001b[0m\u001b[0;34m,\u001b[0m \u001b[0mnew\u001b[0m\u001b[0;34m)\u001b[0m\u001b[0;34m\u001b[0m\u001b[0;34m\u001b[0m\u001b[0m\n\u001b[0m\u001b[1;32m    269\u001b[0m     \u001b[0mhead\u001b[0m\u001b[0;34m,\u001b[0m \u001b[0mtail\u001b[0m \u001b[0;34m=\u001b[0m \u001b[0mpath\u001b[0m\u001b[0;34m.\u001b[0m\u001b[0msplit\u001b[0m\u001b[0;34m(\u001b[0m\u001b[0mold\u001b[0m\u001b[0;34m)\u001b[0m\u001b[0;34m\u001b[0m\u001b[0;34m\u001b[0m\u001b[0m\n\u001b[1;32m    270\u001b[0m     \u001b[0;32mif\u001b[0m \u001b[0mhead\u001b[0m \u001b[0;32mand\u001b[0m \u001b[0mtail\u001b[0m\u001b[0;34m:\u001b[0m\u001b[0;34m\u001b[0m\u001b[0;34m\u001b[0m\u001b[0m\n",
      "\u001b[0;31mPermissionError\u001b[0m: [Errno 13] Permission denied: './example_patch_tmp_1562345062.265108' -> './example_patch'"
     ]
    }
   ],
   "source": [
    "from eolearn.core import OverwritePermission\n",
    "\n",
    "patch.save('./example_patch', overwrite_permission=OverwritePermission.OVERWRITE_FEATURES)"
   ]
  },
  {
   "cell_type": "markdown",
   "metadata": {},
   "source": [
    "### Load EOPatch from the same folder"
   ]
  },
  {
   "cell_type": "code",
   "execution_count": null,
   "metadata": {},
   "outputs": [],
   "source": [
    "patch2 = EOPatch.load('./example_patch')\n",
    "patch2"
   ]
  },
  {
   "cell_type": "code",
   "execution_count": null,
   "metadata": {},
   "outputs": [],
   "source": [
    "patch == patch2"
   ]
  },
  {
   "cell_type": "markdown",
   "metadata": {},
   "source": [
    "### Remove a feature from EOPatch"
   ]
  },
  {
   "cell_type": "code",
   "execution_count": null,
   "metadata": {},
   "outputs": [],
   "source": [
    "del patch2[FeatureType.RASTER]['bands']\n",
    "# or alternatively by\n",
    "#del patch2.raster['bands']\n",
    "\n",
    "patch2"
   ]
  },
  {
   "cell_type": "markdown",
   "metadata": {},
   "source": [
    "### Make a shallow and deep copy of EOPatch\n",
    "\n",
    "Shallow copy will copy only a reference to data but not the data itself."
   ]
  },
  {
   "cell_type": "code",
   "execution_count": null,
   "metadata": {},
   "outputs": [],
   "source": [
    "patch1 = patch.__copy__()\n",
    "patch2 = patch.__deepcopy__()\n",
    "\n",
    "patch.data['bands'] += 1\n",
    "\n",
    "patch == patch1, patch == patch2"
   ]
  },
  {
   "cell_type": "markdown",
   "metadata": {},
   "source": [
    "### Concatenate two EOPatches\n",
    "\n",
    "Concatenate two EOPatches to add their arrays to the same feature in a single EOPatch. "
   ]
  },
  {
   "cell_type": "code",
   "execution_count": null,
   "metadata": {},
   "outputs": [],
   "source": [
    "patch2[FeatureType.RASTER]['bands2'] = new_bands\n",
    "patch2[FeatureType.DATA]['bands2'] = new_ndarray_bands\n",
    "\n",
    "patch + patch2\n",
    "# or alternatively by\n",
    "EOPatch.concatenate(patch, patch2)"
   ]
  },
  {
   "cell_type": "markdown",
   "metadata": {},
   "source": [
    "## EOTask\n",
    "\n",
    "An EOTask is any class the inherits from the abstract `EOTask` class. Each EO task has to implement the execute method; invoking __call__ on a EO task instance invokes the execute method. EO tasks are meant primarily to operate on EOPatches (i.e. instances of EOPatch)."
   ]
  },
  {
   "cell_type": "markdown",
   "metadata": {},
   "source": [
    "### Add a feature using the EOTask\n",
    "\n",
    "`AddFeature` is a simple EOTask which adds a feature to a given EOPatch."
   ]
  },
  {
   "cell_type": "code",
   "execution_count": 7,
   "metadata": {},
   "outputs": [
    {
     "data": {
      "text/plain": [
       "EOPatch(\n",
       "  raster: <xarray.Dataset>\n",
       "Dimensions:  (dim_0: 5, dim_1: 10, dim_2: 10, dim_3: 13)\n",
       "Dimensions without coordinates: dim_0, dim_1, dim_2, dim_3\n",
       "Data variables:\n",
       "    bands    (dim_0, dim_1, dim_2, dim_3) float64 0.4094 0.6454 ... 0.2973\n",
       "  data: {\n",
       "    bands: numpy.ndarray(shape=(5, 10, 10, 13), dtype=float32)\n",
       "  }\n",
       "  mask: {}\n",
       "  scalar: {}\n",
       "  label: {}\n",
       "  vector: {}\n",
       "  data_timeless: {}\n",
       "  mask_timeless: {}\n",
       "  scalar_timeless: {}\n",
       "  label_timeless: {}\n",
       "  vector_timeless: {}\n",
       "  meta_info: {}\n",
       "  bbox: None\n",
       "  timestamp: []\n",
       ")"
      ]
     },
     "execution_count": 7,
     "metadata": {},
     "output_type": "execute_result"
    }
   ],
   "source": [
    "from eolearn.core import AddFeature\n",
    "\n",
    "patch = EOPatch()\n",
    "\n",
    "add_ndarray_feature = AddFeature((FeatureType.DATA, 'bands'))\n",
    "add_feature = AddFeature((FeatureType.RASTER, 'bands'))\n",
    "\n",
    "patch = add_ndarray_feature.execute(patch, new_ndarray_bands)\n",
    "# or alternatively by \n",
    "patch = add_ndarray_feature(patch, new_ndarray_bands)\n",
    "\n",
    "patch = add_feature.execute(patch, new_bands)\n",
    "# or alternatively by \n",
    "patch = add_feature(patch, new_bands)\n",
    "\n",
    "patch"
   ]
  },
  {
   "cell_type": "markdown",
   "metadata": {},
   "source": [
    "### Create a composite EOTask\n",
    "\n",
    "Composite EOTask is created using a multiplication operator (`a * b`) function."
   ]
  },
  {
   "cell_type": "code",
   "execution_count": 8,
   "metadata": {},
   "outputs": [
    {
     "data": {
      "text/plain": [
       "EOPatch(\n",
       "  raster: <xarray.Dataset>\n",
       "Dimensions:    (dim_0: 5, dim_1: 10, dim_2: 10, dim_3: 13)\n",
       "Dimensions without coordinates: dim_0, dim_1, dim_2, dim_3\n",
       "Data variables:\n",
       "    the_bands  (dim_0, dim_1, dim_2, dim_3) float64 0.4094 0.6454 ... 0.2973\n",
       "  data: {\n",
       "    the_bands: numpy.ndarray(shape=(5, 10, 10, 13), dtype=float32)\n",
       "  }\n",
       "  mask: {}\n",
       "  scalar: {}\n",
       "  label: {}\n",
       "  vector: {}\n",
       "  data_timeless: {}\n",
       "  mask_timeless: {}\n",
       "  scalar_timeless: {}\n",
       "  label_timeless: {}\n",
       "  vector_timeless: {}\n",
       "  meta_info: {}\n",
       "  bbox: None\n",
       "  timestamp: []\n",
       ")"
      ]
     },
     "execution_count": 8,
     "metadata": {},
     "output_type": "execute_result"
    }
   ],
   "source": [
    "from eolearn.core import CopyTask, RenameFeature\n",
    "\n",
    "copy_task = CopyTask()\n",
    "rename_ndarray_feature = RenameFeature((FeatureType.DATA, 'bands', 'the_bands'))\n",
    "rename_feature = RenameFeature((FeatureType.RASTER, 'bands', 'the_bands'))\n",
    "copy_rename_task = rename_ndarray_feature * rename_feature * copy_task\n",
    "\n",
    "new_patch = copy_rename_task(patch)\n",
    "new_patch"
   ]
  },
  {
   "cell_type": "markdown",
   "metadata": {},
   "source": [
    "### Create new EOTask\n",
    "\n",
    "If a task does not exist yet, the user can implement it and easily include it into a workflow. There is very little or almost no overhead in the implementation of a new EOTask as seen from this minimal example."
   ]
  },
  {
   "cell_type": "code",
   "execution_count": 9,
   "metadata": {},
   "outputs": [],
   "source": [
    "from eolearn.core import EOTask\n",
    "\n",
    "class FooTask(EOTask):\n",
    "    def __init__(self, foo_param):\n",
    "        self.foo_param = foo_param\n",
    "\n",
    "    def execute(self, eopatch, *, patch_specific_param=None):\n",
    "        # do what foo does on input eopatch and return it\n",
    "        return eopatch"
   ]
  },
  {
   "cell_type": "markdown",
   "metadata": {},
   "source": [
    "Arguments to an EOTask are either static (set when EOTask is initialized; i.e. foo_param above) or dynamic (set during the execution of the workflow; i.e. patch_specific_param above)."
   ]
  },
  {
   "cell_type": "markdown",
   "metadata": {},
   "source": [
    "The list of all EOTasks in the `eolearn.core` subpackage is available here https://eo-learn.readthedocs.io/en/latest/eotasks.html#core"
   ]
  },
  {
   "cell_type": "markdown",
   "metadata": {},
   "source": [
    "## EOWorkflow\n",
    "\n",
    "A workflow is a directed (acyclic) graph composed of instances of EOTask objects. Each task may take as input the results of other tasks and external arguments. The external arguments are passed anew each time the workflow is executed. The workflow builds the computational graph, performs dependency resolution, and executes the tasks. If the input graph is cyclic, the workflow raises a CyclicDependencyError.\n",
    "\n",
    "The result of a workflow execution is an immutable mapping from tasks to results. The result contains tasks with zero out-degree (i.e. terminal tasks)."
   ]
  },
  {
   "cell_type": "markdown",
   "metadata": {},
   "source": [
    "Create a workflow"
   ]
  },
  {
   "cell_type": "code",
   "execution_count": 10,
   "metadata": {},
   "outputs": [
    {
     "data": {
      "text/plain": [
       "WorkflowResults(\n",
       "  Dependency(RenameFeature): EOPatch(\n",
       "  raster: <xarray.Dataset>\n",
       "Dimensions:    (dim_0: 5, dim_1: 10, dim_2: 10, dim_3: 13)\n",
       "Dimensions without coordinates: dim_0, dim_1, dim_2, dim_3\n",
       "Data variables:\n",
       "    the_bands  (dim_0, dim_1, dim_2, dim_3) float64 0.4094 0.6454 ... 0.2973\n",
       "  data: {}\n",
       "  mask: {}\n",
       "  scalar: {}\n",
       "  label: {}\n",
       "  vector: {}\n",
       "  data_timeless: {}\n",
       "  mask_timeless: {}\n",
       "  scalar_timeless: {}\n",
       "  label_timeless: {}\n",
       "  vector_timeless: {}\n",
       "  meta_info: {}\n",
       "  bbox: None\n",
       "  timestamp: []\n",
       ")\n",
       ")"
      ]
     },
     "execution_count": 10,
     "metadata": {},
     "output_type": "execute_result"
    }
   ],
   "source": [
    "from eolearn.core import EOWorkflow, Dependency\n",
    "\n",
    "patch = EOPatch()\n",
    "\n",
    "workflow = EOWorkflow([\n",
    "    Dependency(add_feature, inputs=[]),\n",
    "    Dependency(copy_task, inputs=[add_feature]),\n",
    "    Dependency(rename_feature, inputs=[copy_task])\n",
    "])\n",
    "# Instead of Dependecy class also just a tuple can be used\n",
    "                                    \n",
    "result = workflow.execute({\n",
    "    add_feature: {'eopatch': patch,\n",
    "                  'data': new_bands}\n",
    "})\n",
    "        \n",
    "result"
   ]
  },
  {
   "cell_type": "markdown",
   "metadata": {},
   "source": [
    "### Display the dependency graph"
   ]
  },
  {
   "cell_type": "code",
   "execution_count": 11,
   "metadata": {},
   "outputs": [
    {
     "data": {
      "image/svg+xml": [
       "<?xml version=\"1.0\" encoding=\"UTF-8\" standalone=\"no\"?>\n",
       "<!DOCTYPE svg PUBLIC \"-//W3C//DTD SVG 1.1//EN\"\n",
       " \"http://www.w3.org/Graphics/SVG/1.1/DTD/svg11.dtd\">\n",
       "<!-- Generated by graphviz version 2.38.0 (20140413.2041)\n",
       " -->\n",
       "<!-- Title: %3 Pages: 1 -->\n",
       "<svg width=\"492pt\" height=\"44pt\"\n",
       " viewBox=\"0.00 0.00 492.06 44.00\" xmlns=\"http://www.w3.org/2000/svg\" xmlns:xlink=\"http://www.w3.org/1999/xlink\">\n",
       "<g id=\"graph0\" class=\"graph\" transform=\"scale(1 1) rotate(0) translate(4 40)\">\n",
       "<title>%3</title>\n",
       "<polygon fill=\"white\" stroke=\"none\" points=\"-4,4 -4,-40 488.063,-40 488.063,4 -4,4\"/>\n",
       "<!-- AddFeature -->\n",
       "<g id=\"node1\" class=\"node\"><title>AddFeature</title>\n",
       "<ellipse fill=\"none\" stroke=\"black\" cx=\"65.6442\" cy=\"-18\" rx=\"65.7887\" ry=\"18\"/>\n",
       "<text text-anchor=\"middle\" x=\"65.6442\" y=\"-14.3\" font-family=\"Times,serif\" font-size=\"14.00\">AddFeature</text>\n",
       "</g>\n",
       "<!-- CopyTask -->\n",
       "<g id=\"node2\" class=\"node\"><title>CopyTask</title>\n",
       "<ellipse fill=\"none\" stroke=\"black\" cx=\"223.183\" cy=\"-18\" rx=\"55.7903\" ry=\"18\"/>\n",
       "<text text-anchor=\"middle\" x=\"223.183\" y=\"-14.3\" font-family=\"Times,serif\" font-size=\"14.00\">CopyTask</text>\n",
       "</g>\n",
       "<!-- AddFeature&#45;&gt;CopyTask -->\n",
       "<g id=\"edge1\" class=\"edge\"><title>AddFeature&#45;&gt;CopyTask</title>\n",
       "<path fill=\"none\" stroke=\"black\" d=\"M131.706,-18C140.109,-18 148.717,-18 157.121,-18\"/>\n",
       "<polygon fill=\"black\" stroke=\"black\" points=\"157.244,-21.5001 167.244,-18 157.243,-14.5001 157.244,-21.5001\"/>\n",
       "</g>\n",
       "<!-- RenameFeature -->\n",
       "<g id=\"node3\" class=\"node\"><title>RenameFeature</title>\n",
       "<ellipse fill=\"none\" stroke=\"black\" cx=\"399.571\" cy=\"-18\" rx=\"84.485\" ry=\"18\"/>\n",
       "<text text-anchor=\"middle\" x=\"399.571\" y=\"-14.3\" font-family=\"Times,serif\" font-size=\"14.00\">RenameFeature</text>\n",
       "</g>\n",
       "<!-- CopyTask&#45;&gt;RenameFeature -->\n",
       "<g id=\"edge2\" class=\"edge\"><title>CopyTask&#45;&gt;RenameFeature</title>\n",
       "<path fill=\"none\" stroke=\"black\" d=\"M279.361,-18C287.465,-18 295.998,-18 304.62,-18\"/>\n",
       "<polygon fill=\"black\" stroke=\"black\" points=\"304.761,-21.5001 314.761,-18 304.761,-14.5001 304.761,-21.5001\"/>\n",
       "</g>\n",
       "</g>\n",
       "</svg>\n"
      ],
      "text/plain": [
       "<graphviz.dot.Digraph at 0x7fcc9e092470>"
      ]
     },
     "execution_count": 11,
     "metadata": {},
     "output_type": "execute_result"
    }
   ],
   "source": [
    "%matplotlib inline\n",
    "\n",
    "workflow.dependency_graph('graph.png')"
   ]
  },
  {
   "cell_type": "markdown",
   "metadata": {},
   "source": [
    "### Create a linear workflow\n",
    "\n",
    "For a linear workflow such as previous one you can also use `LinearWorkflow` class."
   ]
  },
  {
   "cell_type": "code",
   "execution_count": 12,
   "metadata": {},
   "outputs": [
    {
     "data": {
      "text/plain": [
       "WorkflowResults(\n",
       "  Dependency(RenameFeature): EOPatch(\n",
       "  raster: <xarray.Dataset>\n",
       "Dimensions:    (dim_0: 5, dim_1: 10, dim_2: 10, dim_3: 13)\n",
       "Dimensions without coordinates: dim_0, dim_1, dim_2, dim_3\n",
       "Data variables:\n",
       "    the_bands  (dim_0, dim_1, dim_2, dim_3) float64 0.4094 0.6454 ... 0.2973\n",
       "  data: {}\n",
       "  mask: {}\n",
       "  scalar: {}\n",
       "  label: {}\n",
       "  vector: {}\n",
       "  data_timeless: {}\n",
       "  mask_timeless: {}\n",
       "  scalar_timeless: {}\n",
       "  label_timeless: {}\n",
       "  vector_timeless: {}\n",
       "  meta_info: {}\n",
       "  bbox: None\n",
       "  timestamp: []\n",
       ")\n",
       ")"
      ]
     },
     "execution_count": 12,
     "metadata": {},
     "output_type": "execute_result"
    }
   ],
   "source": [
    "from eolearn.core import LinearWorkflow\n",
    "\n",
    "patch = EOPatch()\n",
    "\n",
    "workflow = LinearWorkflow(add_feature, copy_task, rename_feature)\n",
    "\n",
    "result = workflow.execute({\n",
    "    add_feature: {'eopatch': patch,\n",
    "                  'data': new_bands}\n",
    "})\n",
    "result                               "
   ]
  },
  {
   "cell_type": "code",
   "execution_count": 13,
   "metadata": {},
   "outputs": [
    {
     "data": {
      "image/svg+xml": [
       "<?xml version=\"1.0\" encoding=\"UTF-8\" standalone=\"no\"?>\n",
       "<!DOCTYPE svg PUBLIC \"-//W3C//DTD SVG 1.1//EN\"\n",
       " \"http://www.w3.org/Graphics/SVG/1.1/DTD/svg11.dtd\">\n",
       "<!-- Generated by graphviz version 2.38.0 (20140413.2041)\n",
       " -->\n",
       "<!-- Title: %3 Pages: 1 -->\n",
       "<svg width=\"492pt\" height=\"44pt\"\n",
       " viewBox=\"0.00 0.00 492.06 44.00\" xmlns=\"http://www.w3.org/2000/svg\" xmlns:xlink=\"http://www.w3.org/1999/xlink\">\n",
       "<g id=\"graph0\" class=\"graph\" transform=\"scale(1 1) rotate(0) translate(4 40)\">\n",
       "<title>%3</title>\n",
       "<polygon fill=\"white\" stroke=\"none\" points=\"-4,4 -4,-40 488.063,-40 488.063,4 -4,4\"/>\n",
       "<!-- AddFeature -->\n",
       "<g id=\"node1\" class=\"node\"><title>AddFeature</title>\n",
       "<ellipse fill=\"none\" stroke=\"black\" cx=\"65.6442\" cy=\"-18\" rx=\"65.7887\" ry=\"18\"/>\n",
       "<text text-anchor=\"middle\" x=\"65.6442\" y=\"-14.3\" font-family=\"Times,serif\" font-size=\"14.00\">AddFeature</text>\n",
       "</g>\n",
       "<!-- CopyTask -->\n",
       "<g id=\"node2\" class=\"node\"><title>CopyTask</title>\n",
       "<ellipse fill=\"none\" stroke=\"black\" cx=\"223.183\" cy=\"-18\" rx=\"55.7903\" ry=\"18\"/>\n",
       "<text text-anchor=\"middle\" x=\"223.183\" y=\"-14.3\" font-family=\"Times,serif\" font-size=\"14.00\">CopyTask</text>\n",
       "</g>\n",
       "<!-- AddFeature&#45;&gt;CopyTask -->\n",
       "<g id=\"edge1\" class=\"edge\"><title>AddFeature&#45;&gt;CopyTask</title>\n",
       "<path fill=\"none\" stroke=\"black\" d=\"M131.706,-18C140.109,-18 148.717,-18 157.121,-18\"/>\n",
       "<polygon fill=\"black\" stroke=\"black\" points=\"157.244,-21.5001 167.244,-18 157.243,-14.5001 157.244,-21.5001\"/>\n",
       "</g>\n",
       "<!-- RenameFeature -->\n",
       "<g id=\"node3\" class=\"node\"><title>RenameFeature</title>\n",
       "<ellipse fill=\"none\" stroke=\"black\" cx=\"399.571\" cy=\"-18\" rx=\"84.485\" ry=\"18\"/>\n",
       "<text text-anchor=\"middle\" x=\"399.571\" y=\"-14.3\" font-family=\"Times,serif\" font-size=\"14.00\">RenameFeature</text>\n",
       "</g>\n",
       "<!-- CopyTask&#45;&gt;RenameFeature -->\n",
       "<g id=\"edge2\" class=\"edge\"><title>CopyTask&#45;&gt;RenameFeature</title>\n",
       "<path fill=\"none\" stroke=\"black\" d=\"M279.361,-18C287.465,-18 295.998,-18 304.62,-18\"/>\n",
       "<polygon fill=\"black\" stroke=\"black\" points=\"304.761,-21.5001 314.761,-18 304.761,-14.5001 304.761,-21.5001\"/>\n",
       "</g>\n",
       "</g>\n",
       "</svg>\n"
      ],
      "text/plain": [
       "<graphviz.dot.Digraph at 0x7fcc9e819240>"
      ]
     },
     "execution_count": 13,
     "metadata": {},
     "output_type": "execute_result"
    }
   ],
   "source": [
    "workflow.dependency_graph('graph.png')"
   ]
  },
  {
   "cell_type": "markdown",
   "metadata": {},
   "source": [
    "## EOExecutor\n",
    "\n",
    "`EOExecutor` handles execution and monitoring of workflows. It enables executing a workflow multiple times and in parallel. It monitors execution times and handles any error that might occur in the process. At the end it generates a report which contains summary of the workflow and process of execution.\n",
    "\n",
    "Execute previously defined workflow with different arguments"
   ]
  },
  {
   "cell_type": "code",
   "execution_count": 14,
   "metadata": {},
   "outputs": [
    {
     "data": {
      "application/vnd.jupyter.widget-view+json": {
       "model_id": "92c52130ace5488bac5a49b037b6bcce",
       "version_major": 2,
       "version_minor": 0
      },
      "text/plain": [
       "HBox(children=(IntProgress(value=0, max=3), HTML(value='')))"
      ]
     },
     "metadata": {},
     "output_type": "display_data"
    },
    {
     "name": "stdout",
     "output_type": "stream",
     "text": [
      "\n"
     ]
    }
   ],
   "source": [
    "from eolearn.core import EOExecutor\n",
    "\n",
    "execution_args = [  # EOWorkflow will be executed for each of these 3 dictionaries:\n",
    "    {add_feature: {'eopatch': patch,\n",
    "                  'data': new_bands}},\n",
    "    {add_feature: {'eopatch': patch,\n",
    "                  'data': new_bands - 1}},\n",
    "    {add_feature: {'eopatch': patch,\n",
    "                  'data': new_bands * 10}},\n",
    "]\n",
    "\n",
    "executor = EOExecutor(workflow, execution_args, save_logs=True, logs_folder='.')\n",
    "\n",
    "executor.run(workers=3)  # The execution will use at most 3 parallel processes"
   ]
  },
  {
   "cell_type": "markdown",
   "metadata": {},
   "source": [
    "### Make the report"
   ]
  },
  {
   "cell_type": "code",
   "execution_count": 18,
   "metadata": {},
   "outputs": [
    {
     "name": "stdout",
     "output_type": "stream",
     "text": [
      "Report was saved to location: ./eoexecution-report-2019_07_05-18_44_36/report.html\n"
     ]
    }
   ],
   "source": [
    "executor.make_report()\n",
    "\n",
    "print('Report was saved to location: {}'.format(executor.get_report_filename()))"
   ]
  }
 ],
 "metadata": {
  "jupytext": {
   "text_representation": {
    "extension": ".py",
    "format_name": "percent",
    "format_version": "1.2",
    "jupytext_version": "0.8.6"
   }
  },
  "kernelspec": {
   "display_name": "Python [conda env:py37_dev_eolearn]",
   "language": "python",
   "name": "conda-env-py37_dev_eolearn-py"
  },
  "language_info": {
   "codemirror_mode": {
    "name": "ipython",
    "version": 3
   },
   "file_extension": ".py",
   "mimetype": "text/x-python",
   "name": "python",
   "nbconvert_exporter": "python",
   "pygments_lexer": "ipython3",
   "version": "3.7.3"
  }
 },
 "nbformat": 4,
 "nbformat_minor": 2
}
